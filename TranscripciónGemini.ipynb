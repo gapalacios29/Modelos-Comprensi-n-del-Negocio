{
  "nbformat": 4,
  "nbformat_minor": 0,
  "metadata": {
    "colab": {
      "provenance": [],
      "authorship_tag": "ABX9TyNhNn7B7YSFHS8B9IAgqkao",
      "include_colab_link": true
    },
    "kernelspec": {
      "name": "python3",
      "display_name": "Python 3"
    },
    "language_info": {
      "name": "python"
    }
  },
  "cells": [
    {
      "cell_type": "markdown",
      "metadata": {
        "id": "view-in-github",
        "colab_type": "text"
      },
      "source": [
        "<a href=\"https://colab.research.google.com/github/gapalacios29/Modelos-Comprension-del-Negocio/blob/main/Transcripci%C3%B3nGemini.ipynb\" target=\"_parent\"><img src=\"https://colab.research.google.com/assets/colab-badge.svg\" alt=\"Open In Colab\"/></a>"
      ]
    },
    {
      "cell_type": "code",
      "execution_count": null,
      "metadata": {
        "collapsed": true,
        "id": "mUlGP-HEcGG6"
      },
      "outputs": [],
      "source": [
        "#instalar librería\n",
        "!pip install google-generativeai"
      ]
    },
    {
      "cell_type": "code",
      "source": [
        "import google.generativeai as genai\n",
        "\n",
        "#escribe tu clave de API\n",
        "genai.configure(api_key='tu_clave')\n",
        "\n",
        "#Ingresar el audio a transcribir\n",
        "myfile = genai.upload_file(\"tu_archivo.wav\")\n",
        "print(f\"{myfile=}\")\n",
        "\n",
        "model = genai.GenerativeModel(\"gemini-1.5-flash\")\n",
        "result = model.generate_content([myfile, \"Describe this audio clip\"])\n",
        "print(f\"{result.text=}\")\n"
      ],
      "metadata": {
        "collapsed": true,
        "id": "pfHQApEKchYR"
      },
      "execution_count": null,
      "outputs": []
    },
    {
      "cell_type": "code",
      "source": [
        "#este da un resultado de transcripción estructurado por parrafos tipo dialogo\n",
        "print(result.text)"
      ],
      "metadata": {
        "collapsed": true,
        "id": "NH4ud1XEkhjg"
      },
      "execution_count": null,
      "outputs": []
    },
    {
      "cell_type": "code",
      "source": [
        "#este genera la transcripción sin estructura\n",
        "prompt = \"Generate a transcript of the speech.\"\n",
        "\n",
        "# Pass the prompt and the audio file to Gemini.\n",
        "response = model.generate_content([prompt, myfile])\n",
        "\n",
        "# Print the transcript.\n",
        "print(response.text)"
      ],
      "metadata": {
        "id": "-PR0My9SePZ5"
      },
      "execution_count": null,
      "outputs": []
    },
    {
      "cell_type": "code",
      "source": [
        "!pip install python-docx\n",
        "!pip install nltk\n",
        "!pip install transformers"
      ],
      "metadata": {
        "collapsed": true,
        "id": "s3vAGWhainuA"
      },
      "execution_count": null,
      "outputs": []
    },
    {
      "cell_type": "code",
      "source": [
        "#Pasar el texto a un documento de word\n",
        "from docx import Document\n",
        "from textblob import TextBlob\n",
        "import transformers\n",
        "from transformers import BartTokenizer, BartForConditionalGeneration\n",
        "\n",
        "doc = Document('tu_archivo.docx')\n",
        "\n",
        "\n",
        "input_text = result.text\n",
        "\n",
        "textos_a_agregar = result.text\n",
        "x=''.join(textos_a_agregar)\n",
        "\n",
        "doc.add_paragraph(input_text)\n",
        "\n",
        "# Guarda el documento\n",
        "doc.save('tu_archivo.docx')"
      ],
      "metadata": {
        "id": "Ut6UTuI8iVFs"
      },
      "execution_count": 18,
      "outputs": []
    }
  ]
}