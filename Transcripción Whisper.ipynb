{
  "nbformat": 4,
  "nbformat_minor": 0,
  "metadata": {
    "colab": {
      "provenance": [],
      "gpuType": "T4",
      "include_colab_link": true
    },
    "kernelspec": {
      "name": "python3",
      "display_name": "Python 3"
    },
    "language_info": {
      "name": "python"
    },
    "accelerator": "GPU"
  },
  "cells": [
    {
      "cell_type": "markdown",
      "metadata": {
        "id": "view-in-github",
        "colab_type": "text"
      },
      "source": [
        "<a href=\"https://colab.research.google.com/github/gapalacios29/Modelos-Comprension-del-Negocio/blob/main/Primera_Transcripci%C3%B3n.ipynb\" target=\"_parent\"><img src=\"https://colab.research.google.com/assets/colab-badge.svg\" alt=\"Open In Colab\"/></a>"
      ]
    },
    {
      "cell_type": "code",
      "execution_count": null,
      "metadata": {
        "colab": {
          "base_uri": "https://localhost:8080/"
        },
        "id": "GlSxU3bPoGr_",
        "outputId": "7ec0943f-2380-4bf9-ceee-b52a9747a8b5",
        "collapsed": true
      },
      "outputs": [
        {
          "output_type": "stream",
          "name": "stdout",
          "text": [
            "Collecting git+https://github.com/openai/whisper.git\n",
            "  Cloning https://github.com/openai/whisper.git to /tmp/pip-req-build-23uz1s97\n",
            "  Running command git clone --filter=blob:none --quiet https://github.com/openai/whisper.git /tmp/pip-req-build-23uz1s97\n",
            "  Resolved https://github.com/openai/whisper.git to commit 90db0de1896c23cbfaf0c58bc2d30665f709f170\n",
            "  Installing build dependencies ... \u001b[?25l\u001b[?25hdone\n",
            "  Getting requirements to build wheel ... \u001b[?25l\u001b[?25hdone\n",
            "  Preparing metadata (pyproject.toml) ... \u001b[?25l\u001b[?25hdone\n",
            "Requirement already satisfied: numba in /usr/local/lib/python3.10/dist-packages (from openai-whisper==20240930) (0.60.0)\n",
            "Requirement already satisfied: numpy in /usr/local/lib/python3.10/dist-packages (from openai-whisper==20240930) (1.26.4)\n",
            "Requirement already satisfied: torch in /usr/local/lib/python3.10/dist-packages (from openai-whisper==20240930) (2.5.1+cu121)\n",
            "Requirement already satisfied: tqdm in /usr/local/lib/python3.10/dist-packages (from openai-whisper==20240930) (4.67.1)\n",
            "Requirement already satisfied: more-itertools in /usr/local/lib/python3.10/dist-packages (from openai-whisper==20240930) (10.5.0)\n",
            "Requirement already satisfied: tiktoken in /usr/local/lib/python3.10/dist-packages (from openai-whisper==20240930) (0.8.0)\n",
            "Requirement already satisfied: triton>=2.0.0 in /usr/local/lib/python3.10/dist-packages (from openai-whisper==20240930) (3.1.0)\n",
            "Requirement already satisfied: filelock in /usr/local/lib/python3.10/dist-packages (from triton>=2.0.0->openai-whisper==20240930) (3.16.1)\n",
            "Requirement already satisfied: llvmlite<0.44,>=0.43.0dev0 in /usr/local/lib/python3.10/dist-packages (from numba->openai-whisper==20240930) (0.43.0)\n",
            "Requirement already satisfied: regex>=2022.1.18 in /usr/local/lib/python3.10/dist-packages (from tiktoken->openai-whisper==20240930) (2024.11.6)\n",
            "Requirement already satisfied: requests>=2.26.0 in /usr/local/lib/python3.10/dist-packages (from tiktoken->openai-whisper==20240930) (2.32.3)\n",
            "Requirement already satisfied: typing-extensions>=4.8.0 in /usr/local/lib/python3.10/dist-packages (from torch->openai-whisper==20240930) (4.12.2)\n",
            "Requirement already satisfied: networkx in /usr/local/lib/python3.10/dist-packages (from torch->openai-whisper==20240930) (3.4.2)\n",
            "Requirement already satisfied: jinja2 in /usr/local/lib/python3.10/dist-packages (from torch->openai-whisper==20240930) (3.1.4)\n",
            "Requirement already satisfied: fsspec in /usr/local/lib/python3.10/dist-packages (from torch->openai-whisper==20240930) (2024.10.0)\n",
            "Requirement already satisfied: sympy==1.13.1 in /usr/local/lib/python3.10/dist-packages (from torch->openai-whisper==20240930) (1.13.1)\n",
            "Requirement already satisfied: mpmath<1.4,>=1.1.0 in /usr/local/lib/python3.10/dist-packages (from sympy==1.13.1->torch->openai-whisper==20240930) (1.3.0)\n",
            "Requirement already satisfied: charset-normalizer<4,>=2 in /usr/local/lib/python3.10/dist-packages (from requests>=2.26.0->tiktoken->openai-whisper==20240930) (3.4.0)\n",
            "Requirement already satisfied: idna<4,>=2.5 in /usr/local/lib/python3.10/dist-packages (from requests>=2.26.0->tiktoken->openai-whisper==20240930) (3.10)\n",
            "Requirement already satisfied: urllib3<3,>=1.21.1 in /usr/local/lib/python3.10/dist-packages (from requests>=2.26.0->tiktoken->openai-whisper==20240930) (2.2.3)\n",
            "Requirement already satisfied: certifi>=2017.4.17 in /usr/local/lib/python3.10/dist-packages (from requests>=2.26.0->tiktoken->openai-whisper==20240930) (2024.12.14)\n",
            "Requirement already satisfied: MarkupSafe>=2.0 in /usr/local/lib/python3.10/dist-packages (from jinja2->torch->openai-whisper==20240930) (3.0.2)\n"
          ]
        }
      ],
      "source": [
        "#instalar librería de whisper\n",
        "!pip install git+https://github.com/openai/whisper.git\n",
        "\n",
        "\n",
        "\n"
      ]
    },
    {
      "cell_type": "code",
      "source": [
        "import whisper"
      ],
      "metadata": {
        "colab": {
          "base_uri": "https://localhost:8080/"
        },
        "id": "3RAnuG22uTaE",
        "outputId": "86538de5-599c-420a-f4a8-f74d7b9bd381"
      },
      "execution_count": null,
      "outputs": [
        {
          "output_type": "stream",
          "name": "stdout",
          "text": [
            "20240930\n"
          ]
        }
      ]
    },
    {
      "cell_type": "code",
      "source": [
        "#cargar modelo a utilizar\n",
        "model = whisper.load_model(\"large\")"
      ],
      "metadata": {
        "colab": {
          "base_uri": "https://localhost:8080/"
        },
        "id": "pvPPQ2z4ubqx",
        "outputId": "a222d715-9df4-4952-e571-6234576b3376",
        "collapsed": true
      },
      "execution_count": null,
      "outputs": [
        {
          "output_type": "stream",
          "name": "stderr",
          "text": [
            "/usr/local/lib/python3.10/dist-packages/whisper/__init__.py:150: FutureWarning: You are using `torch.load` with `weights_only=False` (the current default value), which uses the default pickle module implicitly. It is possible to construct malicious pickle data which will execute arbitrary code during unpickling (See https://github.com/pytorch/pytorch/blob/main/SECURITY.md#untrusted-models for more details). In a future release, the default value for `weights_only` will be flipped to `True`. This limits the functions that could be executed during unpickling. Arbitrary objects will no longer be allowed to be loaded via this mode unless they are explicitly allowlisted by the user via `torch.serialization.add_safe_globals`. We recommend you start setting `weights_only=True` for any use case where you don't have full control of the loaded file. Please open an issue on GitHub for any issues related to this experimental feature.\n",
            "  checkpoint = torch.load(fp, map_location=device)\n"
          ]
        }
      ]
    },
    {
      "cell_type": "code",
      "source": [
        "#cargar el audio a transcribir\n",
        "audio = whisper.load_audio(\"tu_archivo.wav\")"
      ],
      "metadata": {
        "id": "n_-g5iApv4H_"
      },
      "execution_count": null,
      "outputs": []
    },
    {
      "cell_type": "code",
      "source": [
        "result = model.transcribe(audio)"
      ],
      "metadata": {
        "id": "oss5gZXkwfOU"
      },
      "execution_count": null,
      "outputs": []
    },
    {
      "cell_type": "code",
      "source": [
        "print(result[\"text\"])\n",
        "\n",
        "\n",
        "\n"
      ],
      "metadata": {
        "colab": {
          "base_uri": "https://localhost:8080/"
        },
        "id": "Orq56WL6wyTQ",
        "outputId": "58c43a51-f052-4c1b-f716-dbed4918ae49",
        "collapsed": true
      },
      "execution_count": null,
      "outputs": [
        {
          "output_type": "stream",
          "name": "stdout",
          "text": [
            " ¿Cuál es la misión? Bueno, primero, ¿cómo se llama su negocio? Bueno, el negocio se llama... Le vamos a poner que se llame Tecnoestructuras y es un negocio que vende materiales de construcción sobre todo en base de aluminio Pueden ser vigas, pueden ser toralitas, pueden ser... Todo lo que se necesita para asegurar esas vigas a las estructuras físicas de la computadora Perdón, de la casa Y eso ¿Quién cree que es su cliente ideal? Mi cliente ideal, yo creo que puede ser un contratista porque ellos saben muy bien qué necesitan llegan a la sucursal, piden o hacen el pedido incluso por adelantado y solamente llegan a pagar y a recoger el material En cambio, una persona normal llega, pregunta necesita muchísimo más tiempo de atención para venderle no sabe qué necesita puede comprar algo que no necesite y puede comprar algo que no le quede bien en la sucursal y puede comprar algo que no le quede bien en la sucursal y puede comprar algo que no le quede bien en la sucursal y puede comprar algo que no le quede bien en la sucursal en su construcción, entonces a la larga, una venta un poco más complicada Entonces a la larga, una venta un poco más complicada ¿Y cómo creería su propuesta de valor en comparación con la competencia? ¿Qué puede tener o qué tiene? Nuestra propuesta de valor es es la cercanía con la gente Nosotros tenemos la red más grande de sucursales de ventas en todo El Salvador tenemos una venta de sucursales en todo El Salvador tenemos una sucursal en cada distrito y eso es lo que nos caracteriza estar cerca de la necesidad de la gente entonces no tienen que recorrer distancias muy grandes para poder ir a traer sus materiales de construcción nosotros nos encargamos de eso y también estamos bueno, uno de los problemas que eso carrega es poder saber qué materiales llevar a cada una de las sucursales porque no todas las sucursales se venden todos los materiales entonces ahí lo que nos pasa es que para poder mantener esa propuesta de valor tenemos que tener completos los inventarios en cada una de las sucursales Bueno, ahora quisiera conocer más sobre las operaciones y procesos que tiene el negocio y entonces cuáles son los procesos clave que hace que su negocio funcione Bueno, uno de los procesos clave es son las compras las compras tienen que ser tenemos que ser súper cuidadosos en las compras porque como ustedes saben las cadenas de suministro recientemente han estado teniendo disrupciones eso hace que tengamos que prever con mucho tiempo de anticipación qué materiales se van a necesitar de construcción y dado que los ciclos de construcción son dado que la construcción es muy cíclica o sea, tiene altos y bajos es bien importante que nosotros podamos saber qué tanto material se va a necesitar en un momento determinado entonces el proceso de compras es súper clave y como les decía anteriormente el proceso de distribución saber qué materiales poner en qué sucursales y las herramientas o tecnologías que utilizas para esos procesos cuáles están usando la verdad se usa mucho criterio experto tenemos gente que tiene 40 años de experiencia haciendo compras de materiales de construcción entonces consideramos que ese criterio es importante igual con la distribución es mucho criterio experto considera que son eficientes los procesos en términos como le digo hemos tenido casos en los que en los que no es tan eficiente compramos de más o distribuimos de más entonces nos gustaría poder distribuir la cantidad justa de material en las sucursales que lo van a necesitar y del mismo lado de las compras poder comprar la cantidad justa de material que se va a necesitar en el país porque eso nos reduciría los costos de los costos de distribución pero también los costos de almacenamiento de los materiales y habrá alguna tarea o algo que usted siente que es repetitiva y le gustaría automatizar por ejemplo la la tarea de la tarea de la tarea de la tarea de la tarea de la tarea de la tarea de la tarea de la tarea de la tarea de la tarea por ejemplo la el manejo de inventarios cada vez que se llega a depositar inventarios en las sucursales hay que hay que estar administrando cuánto entra cuánto sale hay que estar haciendo conteo manual de de todo ese de todos los materiales que tenemos en una sucursal determinada entonces eso es un proceso bastante manual las cargas y las descargas son procesos manuales que personas hacen los procesos de estimación de compras también hay personas que manualmente lo realizan entonces ese tipo de cosas pueden ser automatizables quisiera conocer más sobre los desafíos que presentan como negocio entonces cuáles son los principales problemas que enfrenta su negocio en este momento creo que el principal desafío son las compras en línea no tenemos un canal de ventas en línea solo tenemos canales de ventas físicos entonces es un gran problema porque nuestros clientes cada día están demandando mucho más de esos canales de ventas digitales mmmm eso representa el mayor problema que tenemos actualmente y hay algo algún obstáculo que afecte en sus ingresos o en su crecimiento ehh si como te digo el tema de estar nuestro propósito de valor se centra en estar en la mayor cantidad de lugares que se pueda eso requiere un costo porque hay que comprar un terreno o alquilarlo hay que hacer una construcción de un centro de distribución específico que es una sucursal de ventas entonces para crecer necesitamos una gran inversión si y Bob de los problemas que me mencionó ha intentado resolver alguno y le funcionó la solución o sigue divagando como solucionar el problema que nos comentaban si o el desafío si hemos probado hemos hecho un piloto de de ventas en línea en algunos lugares y de distribución en línea sin embargo nos hemos dado cuenta que que son procesos difíciles de de programar o sea es caro contratar a alguien que programe un sitio web es caro tener una una venta o sea es caro tener una venta es caro tener una conexión a una hacer pagos es difícil hacer pagos en línea también es difícil que la gente adopte esta nueva forma de comprar porque mucha gente quiere ir y ver los materiales físicos e entonces es toda una inversión grande que se ha hecho y realmente no hemos tenido la cantidad de ventas que hubiéramos querido y y usted que tan satisfecho cree que están sus clientes de los productos o servicios que le dan mmm mmm mire creo que están bastante satisfechos verdad como le digo somos la empresa que tiene la mayor cantidad de sucursales y y considero que en todas se venden en todas se venden todos nuestros productos y eso es muy bueno pues los clientes nos prefieren quizás el si quizás lo que le digo lo que no es tan satisfecho es que quisieran tener una opción de compra en línea sobre todo los contratistas más jóvenes e para hacer los procesos un poco más un poco más fáciles para ellos no tener que llegar a una sucursal y esperar que se atiendan a todos esos clientes que no saben lo que quieren cuando ellos perfectamente saben justamente que quieren verlos y que no saben que quieren verlos y que necesitan especialmente el material las medidas dimensiones etc. que necesitan Ya pasando con algunas metas que usted tiene cuáles son los principales objetivos que tiene a corto y a largo plazo Yo bueno uno de los objetivos que tenemos es aumentar las ventas en 20% al siguiente año y para eso pues necesitamos abrir o hacer que funcionen nuestras ventas en línea. Y a largo plazo, pues quisiéramos tener el 40% de market share y ahorita tenemos el 30% de ventas de productos como duralitas y como vigas de aluminio. ¿Y qué métricas utilizan para medir el éxito del negocio? Nos centramos mucho en las ventas, como te digo, volúmenes, cuántos dólares hemos vendido en el mes, cuántos dólares serían nuestros puestos, como te digo, si queríamos aumentar un 20% tenemos que pasar de vender 30 mil dólares que vendemos actualmente por sucursal a vender 35 mil. ¿Y cuál es la estrategia de habernos monitorizado? ¿Cuáles son las empresasưởngas? Dos, en la parte superior que la página deplantado está en la parte inferior. ¿Y la gente que lleva el coche responsable con la manière de transportar hunta Sweivas? Sí, la mucha gente lleva en cuenta que sus números, y comencia el curso con un gráfico bizarro de 온 topic y tendré que sumar todos esos números cada vez o durante el proceso. tendencias del mercado que podrían impactar dentro de su industria y cómo afectarían estas tendencias? si mira hay tendencias como de materiales alternativos, nosotros vendemos aluminio pero y nos especializamos en eso verdad pero hay empresas que están tratando de vender productos pero con otros materiales por ejemplo plástico biodegradables materiales impresos con impresoras 3d ese tipo de cosas que realmente son más caros que nuestro material pero por todo el tema de sostenibilidad y ese tipo de cosas algunos clientes nos están preguntando por ese tipo de materiales entonces es una tendencia de la industria de moverse hacia la construcción sostenible que como te digo es más caro pues para la construcción es más caro también para nosotros porque no es no es lo mismo comprar una orden grande de un material barato que comprar una orden pequeña de un material más caro eso nos genera costos adicionales tener que tener todos tipos de materiales pero como te digo es una tendencia del mercado y acerca de los recursos que posee como negocio que tan grande es el equipo que tiene dentro del negocio y si planea expandirse a un futuro quedarse así nuestro equipo actualmente es de 2000 personas y si plantea planeamos expandirnos a llegar por lo menos a 2500 personas y si planeamos expandirnos a llegar por lo menos a 2500 personas sobre todo en el área de ventas pero que es nuestro nuestras estrellas es crecimiento ahorita estamos en crecimiento entonces mayor cantidad de personas sería hace una ley de ventas y soporte de ventas y en el presupuesto de los recursos necesarios para abordar los problemas porque tenemos financiación y sobre todo con este tema de los materiales sostenibles hemos buscado líneas de negocio de crédito con un banco de vivienda el mejor banco de salvador para para vender materiales sostenibles y planeamos que eso nos ayude pues con la compra de esos nuevos materiales también con la compra de con la construcción de nuevos puntos de ventas y también con la compra de centros de distribución sostenibles alguna limitación de ese tiempo y negro habilidades etcétera que limpian alcanzaron las metas si sobre todo de dinero como te digo además de esa facilidad de financiación pero eso cubre solo una parte de nuestras necesidades entonces un poco más respaldados los datos que nos permitan poder decir con mayor seguridad hasta donde podemos presionarnos si ese 20% que te digo de crecimiento en ventas es realmente realmente un valor que debería de ser el adecuado o si es muy bajo o si es muy alto entendemos que las ventas digitales pueden tener crecimientos exponenciales eso nos puede ayudar a que la venta se pueda hacer más fácil y que se pueda hacer más rápido preocupa porque vamos a tener o sea no queremos que nuestro crecimiento de la venta sea exponencial pero nuestros costos también crezcan exponencialmente vamos a tener porque eso nos va a generar un costo de salida de dinero que no necesariamente vamos a tener habilidades te digo todo el tema de datos verdad quisiéramos tener ayuda en analítica de alguna forma y que nos ayude a tener una buena visión de todo esto personas 1988 submarino en una creación de materiales de llegando a estas propiedades cost nothing desde agosto Grindle Makfeito su negocio y sobre sus clientes? Mire, tenemos... no tenemos datos. No tenemos nada. Tenemos datos en Excel, nuestras bases de datos están en Excel y recolectamos pues de lo que nuestros analistas van recolectando las ventas que se hacen en las sucursales, eso se envía por correo electrónico a una persona que está en nuestras oficinas administrativas y ellas, ellos los, digamos, los consolidan en una base de datos de conocimiento de las ventas. Entonces, eso es sobre todo lo que tenemos. Y son ventas agregadas, es decir, conocemos la cantidad de dinero que se usa para vender, perdón, que se compra, pero no sabemos el detalle de qué cliente compró, qué... qué producto era. Entonces nos gustaría que nos dieran recomendaciones de cómo poder mejorar esta recolección de datos. O sea que la recolección de datos sería como su problema principal que quisiera resolver. Pues nuestros problemas principales son las ventas. El tema de los datos realmente... pues si me decís que me va a ayudar a vender, bien, pero nuestros problemas son las ventas. ¿Y qué plazo tiene en mente para resolver el problema de las ventas? ¿Y los demás problemas? Sí, nuestro crecimiento que te digo, que nos planteamos es de aquí a un año. Entonces el plazo es un año. Queremos tener toda esa capacidad para vender por lo menos 20% más. Ventas digitales, también estamos creciendo y... Entonces todo eso... pues va a requerir un montón de inversión. Tal vez las ventas digitales nos dejen muchos más datos, aunque el proveedor con el que estamos trabajando para el sitio web, ellos se han encargado de tener todo, ¿verdad? Nosotros no... no procesamos más que la venta, ¿verdad? Entonces los datos ahí les quedan a ellos. Eh... Eh... Eso sería todo en la entrevista. Posteriormente le vamos a dar más feedback de todo lo que son.\n",
            "13380\n"
          ]
        }
      ]
    },
    {
      "cell_type": "code",
      "source": [
        "#Instalar librerías para pasar el texto a un documento de word\n",
        "!pip install python-docx\n",
        "!pip install nltk\n",
        "!pip install transformers\n"
      ],
      "metadata": {
        "colab": {
          "base_uri": "https://localhost:8080/"
        },
        "id": "FsSbizNveji6",
        "outputId": "aa3a9dac-467c-4450-d1a0-e0f42ffe2296",
        "collapsed": true
      },
      "execution_count": null,
      "outputs": [
        {
          "output_type": "stream",
          "name": "stdout",
          "text": [
            "Collecting python-docx\n",
            "  Downloading python_docx-1.1.2-py3-none-any.whl.metadata (2.0 kB)\n",
            "Requirement already satisfied: lxml>=3.1.0 in /usr/local/lib/python3.10/dist-packages (from python-docx) (5.3.0)\n",
            "Requirement already satisfied: typing-extensions>=4.9.0 in /usr/local/lib/python3.10/dist-packages (from python-docx) (4.12.2)\n",
            "Downloading python_docx-1.1.2-py3-none-any.whl (244 kB)\n",
            "\u001b[2K   \u001b[90m━━━━━━━━━━━━━━━━━━━━━━━━━━━━━━━━━━━━━━━━\u001b[0m \u001b[32m244.3/244.3 kB\u001b[0m \u001b[31m3.8 MB/s\u001b[0m eta \u001b[36m0:00:00\u001b[0m\n",
            "\u001b[?25hInstalling collected packages: python-docx\n",
            "Successfully installed python-docx-1.1.2\n",
            "Requirement already satisfied: nltk in /usr/local/lib/python3.10/dist-packages (3.9.1)\n",
            "Requirement already satisfied: click in /usr/local/lib/python3.10/dist-packages (from nltk) (8.1.7)\n",
            "Requirement already satisfied: joblib in /usr/local/lib/python3.10/dist-packages (from nltk) (1.4.2)\n",
            "Requirement already satisfied: regex>=2021.8.3 in /usr/local/lib/python3.10/dist-packages (from nltk) (2024.11.6)\n",
            "Requirement already satisfied: tqdm in /usr/local/lib/python3.10/dist-packages (from nltk) (4.67.1)\n",
            "Requirement already satisfied: transformers in /usr/local/lib/python3.10/dist-packages (4.47.1)\n",
            "Requirement already satisfied: filelock in /usr/local/lib/python3.10/dist-packages (from transformers) (3.16.1)\n",
            "Requirement already satisfied: huggingface-hub<1.0,>=0.24.0 in /usr/local/lib/python3.10/dist-packages (from transformers) (0.27.0)\n",
            "Requirement already satisfied: numpy>=1.17 in /usr/local/lib/python3.10/dist-packages (from transformers) (1.26.4)\n",
            "Requirement already satisfied: packaging>=20.0 in /usr/local/lib/python3.10/dist-packages (from transformers) (24.2)\n",
            "Requirement already satisfied: pyyaml>=5.1 in /usr/local/lib/python3.10/dist-packages (from transformers) (6.0.2)\n",
            "Requirement already satisfied: regex!=2019.12.17 in /usr/local/lib/python3.10/dist-packages (from transformers) (2024.11.6)\n",
            "Requirement already satisfied: requests in /usr/local/lib/python3.10/dist-packages (from transformers) (2.32.3)\n",
            "Requirement already satisfied: tokenizers<0.22,>=0.21 in /usr/local/lib/python3.10/dist-packages (from transformers) (0.21.0)\n",
            "Requirement already satisfied: safetensors>=0.4.1 in /usr/local/lib/python3.10/dist-packages (from transformers) (0.4.5)\n",
            "Requirement already satisfied: tqdm>=4.27 in /usr/local/lib/python3.10/dist-packages (from transformers) (4.67.1)\n",
            "Requirement already satisfied: fsspec>=2023.5.0 in /usr/local/lib/python3.10/dist-packages (from huggingface-hub<1.0,>=0.24.0->transformers) (2024.10.0)\n",
            "Requirement already satisfied: typing-extensions>=3.7.4.3 in /usr/local/lib/python3.10/dist-packages (from huggingface-hub<1.0,>=0.24.0->transformers) (4.12.2)\n",
            "Requirement already satisfied: charset-normalizer<4,>=2 in /usr/local/lib/python3.10/dist-packages (from requests->transformers) (3.4.0)\n",
            "Requirement already satisfied: idna<4,>=2.5 in /usr/local/lib/python3.10/dist-packages (from requests->transformers) (3.10)\n",
            "Requirement already satisfied: urllib3<3,>=1.21.1 in /usr/local/lib/python3.10/dist-packages (from requests->transformers) (2.2.3)\n",
            "Requirement already satisfied: certifi>=2017.4.17 in /usr/local/lib/python3.10/dist-packages (from requests->transformers) (2024.12.14)\n"
          ]
        }
      ]
    },
    {
      "cell_type": "code",
      "source": [
        "from docx import Document\n",
        "from textblob import TextBlob\n",
        "import transformers\n",
        "from transformers import BartTokenizer, BartForConditionalGeneration\n",
        "\n",
        "#Cargar documento donde se guardará el texto\n",
        "doc = Document('tu_archivo.docx')\n",
        "\n",
        "#ingresar el texto a agregar\n",
        "input_text = result[\"text\"]\n",
        "\n",
        "textos_a_agregar = result[\"text\"]\n",
        "x=''.join(textos_a_agregar)\n",
        "\n",
        "doc.add_paragraph(input_text)\n",
        "\n",
        "# Guarda el documento\n",
        "doc.save('/content/transcripcionword.docx')"
      ],
      "metadata": {
        "id": "etDuDvZcuuDK"
      },
      "execution_count": null,
      "outputs": []
    }
  ]
}
