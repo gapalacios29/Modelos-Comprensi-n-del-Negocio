{
  "nbformat": 4,
  "nbformat_minor": 0,
  "metadata": {
    "colab": {
      "provenance": [],
      "gpuType": "T4",
      "include_colab_link": true
    },
    "kernelspec": {
      "name": "python3",
      "display_name": "Python 3"
    },
    "language_info": {
      "name": "python"
    },
    "accelerator": "GPU"
  },
  "cells": [
    {
      "cell_type": "markdown",
      "metadata": {
        "id": "view-in-github",
        "colab_type": "text"
      },
      "source": [
        "<a href=\"https://colab.research.google.com/github/gapalacios29/Modelos-Comprension-del-Negocio/blob/main/TranscripcionWhisper.ipynb\" target=\"_parent\"><img src=\"https://colab.research.google.com/assets/colab-badge.svg\" alt=\"Open In Colab\"/></a>"
      ]
    },
    {
      "cell_type": "code",
      "execution_count": null,
      "metadata": {
        "id": "GlSxU3bPoGr_",
        "collapsed": true
      },
      "outputs": [],
      "source": [
        "#instalar librería de whisper\n",
        "!pip install git+https://github.com/openai/whisper.git\n",
        "\n",
        "\n",
        "\n"
      ]
    },
    {
      "cell_type": "code",
      "source": [
        "import whisper"
      ],
      "metadata": {
        "id": "3RAnuG22uTaE"
      },
      "execution_count": null,
      "outputs": []
    },
    {
      "cell_type": "code",
      "source": [
        "#cargar modelo a utilizar\n",
        "model = whisper.load_model(\"large\")"
      ],
      "metadata": {
        "id": "pvPPQ2z4ubqx",
        "collapsed": true
      },
      "execution_count": null,
      "outputs": []
    },
    {
      "cell_type": "code",
      "source": [
        "#cargar el audio a transcribir\n",
        "audio = whisper.load_audio(\"tu_archivo.wav\")"
      ],
      "metadata": {
        "id": "n_-g5iApv4H_"
      },
      "execution_count": null,
      "outputs": []
    },
    {
      "cell_type": "code",
      "source": [
        "result = model.transcribe(audio)"
      ],
      "metadata": {
        "id": "oss5gZXkwfOU"
      },
      "execution_count": null,
      "outputs": []
    },
    {
      "cell_type": "code",
      "source": [
        "print(result[\"text\"])\n",
        "\n",
        "\n",
        "\n"
      ],
      "metadata": {
        "id": "Orq56WL6wyTQ",
        "collapsed": true
      },
      "execution_count": null,
      "outputs": []
    },
    {
      "cell_type": "code",
      "source": [
        "#Instalar librerías para pasar el texto a un documento de word\n",
        "!pip install python-docx\n",
        "!pip install nltk\n",
        "!pip install transformers\n"
      ],
      "metadata": {
        "id": "FsSbizNveji6",
        "collapsed": true
      },
      "execution_count": null,
      "outputs": []
    },
    {
      "cell_type": "code",
      "source": [
        "from docx import Document\n",
        "from textblob import TextBlob\n",
        "import transformers\n",
        "from transformers import BartTokenizer, BartForConditionalGeneration\n",
        "\n",
        "#Cargar documento donde se guardará el texto\n",
        "doc = Document('tu_archivo.docx')\n",
        "\n",
        "#ingresar el texto a agregar\n",
        "input_text = result[\"text\"]\n",
        "\n",
        "textos_a_agregar = result[\"text\"]\n",
        "x=''.join(textos_a_agregar)\n",
        "\n",
        "doc.add_paragraph(input_text)\n",
        "\n",
        "# Guarda el documento\n",
        "doc.save('tu_archivo.docx')"
      ],
      "metadata": {
        "id": "etDuDvZcuuDK"
      },
      "execution_count": null,
      "outputs": []
    }
  ]
}